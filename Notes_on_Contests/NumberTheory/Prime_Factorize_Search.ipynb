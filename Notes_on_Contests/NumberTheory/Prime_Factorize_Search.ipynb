{
 "cells": [
  {
   "cell_type": "markdown",
   "metadata": {},
   "source": [
    "# [Prime Time](https://codingcompetitions.withgoogle.com/codejam/round/000000000043585d/00000000007543d8#problem)\n",
    "- Given: `M` prime numbers, each prime number i (i in range `[0,M)`)has\n",
    "    + `P[i]`: the values\n",
    "    + `N[i]`: Number of occurences\n",
    "    \n",
    "- Find: We try to divide all prime numbers (Total $\\sum\\limits_{i=0}^{M-1}N_i$ nums) to 2 groups `left_side` and `right_side`\n",
    "    + We can only divide if `sum of the left side = product of the right side`, all nums must belong to either `left_side` or `right_side`\n",
    "    + The score of the division is recorded as `score = sum of the left side = product of the right side`\n",
    "    + Return the maximum score, if not possible return 0\n",
    "\n",
    "#### Constraints\n",
    "- 1$\\leq$M$\\leq$95. (Note that there are exactly 95 distinct primes between 2 and 499)\n",
    "- 2$\\leq$Pi$\\leq$499, for all i, each Pi is prime.\n",
    "- `P[i]<P[i+1]`, for all i. (The primes are given in strictly increasing order)\n",
    "- 1$\\leq$Ni, for all i.\n",
    "\n",
    "- $2\\leq N_0+N_1+⋯+N_{M-1} \\leq 10^{15}$"
   ]
  },
  {
   "cell_type": "markdown",
   "metadata": {},
   "source": [
    "# Solution\n",
    "- Insights\n",
    "    + Reduce the problem to a search problem\n",
    "    + Suppose we have a candidate that\n",
    "        + `cand = sum_right_side`\n",
    "        + `product_right_side = sum_left_side = sum_all_num - sum_right_side`\n",
    "    + Check if we can factorized `product_right_side` by all the primes we have, knowing their product and sum\n",
    "\n",
    "- Code\n",
    "\n",
    "```C++\n",
    "int M;\n",
    "vector<int> P, N;\n",
    "\n",
    "\n",
    "int sol() {\n",
    "    int sum = 0;\n",
    "    for(int i=0; i<M; ++i) {\n",
    "        sum += (P[i] * N[i]);\n",
    "    }\n",
    "\n",
    "    int ans = 0;\n",
    "    for(int cand=0; cand<27003; ++cand) {\n",
    "        if(cand < sum) {\n",
    "            int sum_right_side = cand;\n",
    "            int product_right_side = sum - cand;\n",
    "                // product_right_side = sum_left_side\n",
    "\n",
    "            // If product_right_side can be factorized --> the ans is correct\n",
    "\t\t\tfor(int i=0; i<M; ++i) {\n",
    "\t\t\t\tfor (int n=0; n<N[i]; ++n) {\n",
    "\t\t\t\t\tif(product_right_side % P[i] == 0) {\n",
    "\t\t\t\t\t\tproduct_right_side /= P[i];\n",
    "                        sum_right_side -= P[i];\n",
    "                    } else break;\n",
    "\t\t\t\t}\n",
    "\t\t\t}\n",
    "\n",
    "            if (sum_right_side == 0 && product_right_side == 1) {\n",
    "                ans = max(ans, sum - cand);\n",
    "\t\t\t}\n",
    "\n",
    "        }\n",
    "    }\n",
    "\n",
    "    return ans;\n",
    "}\n",
    "\n",
    "```"
   ]
  }
 ],
 "metadata": {
  "kernelspec": {
   "display_name": "Python 3.7",
   "language": "python",
   "name": "py37"
  },
  "language_info": {
   "codemirror_mode": {
    "name": "ipython",
    "version": 3
   },
   "file_extension": ".py",
   "mimetype": "text/x-python",
   "name": "python",
   "nbconvert_exporter": "python",
   "pygments_lexer": "ipython3",
   "version": "3.7.9"
  }
 },
 "nbformat": 4,
 "nbformat_minor": 4
}
