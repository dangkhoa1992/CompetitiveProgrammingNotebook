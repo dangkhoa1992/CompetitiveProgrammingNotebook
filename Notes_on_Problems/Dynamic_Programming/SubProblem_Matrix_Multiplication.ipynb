{
 "cells": [
  {
   "cell_type": "markdown",
   "metadata": {},
   "source": [
    "## Chain Matrix Multiplication\n",
    "- Find the min cost of matrix multiplcation\n",
    "- Example ABCD can be multipled as\n",
    "    + ((AB)C)D\n",
    "    + (A(BC))D\n",
    "    + A((BC)D)\n",
    "    + A(B(CD))\n",
    "    + (AB)(CD)\n",
    "\n",
    "\n",
    "#### Solution $O(n^3)$\n",
    "<img src=\"./img/13.jpg\" alt=\"drawing\" width=\"600\"/>\n",
    "\n",
    "<img src=\"./img/18.jpg\" alt=\"drawing\" width=\"600\"/>\n",
    "\n",
    "```C++\n",
    "int dp[153][153];\n",
    "int get(int i, int j) {\n",
    "    if(j == i+1) return 0;\n",
    "    if(dp[i][j] != inf) return dp[i][j];\n",
    "    \n",
    "    FOR(k,i+1,j)\n",
    "        dp[i][j] = min(dp[i][j], get(i,k) + get(k,j) + m[i]*m[k]*m[j]);\n",
    "\n",
    "    return dp[i][j];\n",
    "}\n",
    "int solveDP() {\n",
    "    ms(dp, 0x7f);\n",
    "    return get(0,N);\n",
    "}\n",
    "```"
   ]
  }
 ],
 "metadata": {
  "kernelspec": {
   "display_name": "Python 3.7",
   "language": "python",
   "name": "py37"
  },
  "language_info": {
   "codemirror_mode": {
    "name": "ipython",
    "version": 3
   },
   "file_extension": ".py",
   "mimetype": "text/x-python",
   "name": "python",
   "nbconvert_exporter": "python",
   "pygments_lexer": "ipython3",
   "version": "3.7.9"
  }
 },
 "nbformat": 4,
 "nbformat_minor": 4
}
