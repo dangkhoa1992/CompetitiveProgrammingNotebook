{
 "cells": [
  {
   "cell_type": "markdown",
   "metadata": {},
   "source": [
    "# Problem\n",
    "- Given \n",
    "    + an infinite supply of coins of each of denominations D = [D0, D1, D2, D3, ...... Dn-1]\n",
    "    + A Value V\n",
    "\n",
    "- Figure out the total number of ways, in which you can make change for Value V using coins of denominations D\n",
    "\n",
    "#### Example\n",
    "\n",
    "```\n",
    "Input:\n",
    "3\n",
    "1 2 3\n",
    "4\n",
    "\n",
    "Output: 4\n",
    "Explanation: (1,1,1,1), (1,1, 2), (1, 3) and (2, 2)\n",
    "```\n",
    "\n",
    "#### Solution O(V*N)\n",
    "- Similar to Subset sum problem\n",
    "\n",
    "```cpp\n",
    "int N;\n",
    "vector<int> D;\n",
    "int val;\n",
    "\n",
    "\n",
    "int dp[13][1003];\n",
    "int get(int x, int remain) {\n",
    "    if(remain < 0) return 0;\n",
    "    if(remain == 0) return 1;\n",
    "    if(dp[x][remain] != -1) return dp[x][remain];\n",
    "\n",
    "    dp[x][remain] = 0;\n",
    "    for(int i=x; i<N; ++i) {\n",
    "        dp[x][remain] += get(i, remain-D[i]);\n",
    "    }\n",
    "    return dp[x][remain];\n",
    "}\n",
    "\n",
    "int change_coin() {\n",
    "    memset(dp, -1, sizeof(dp));\n",
    "    return get(0, val);\n",
    "}\n",
    "```"
   ]
  }
 ],
 "metadata": {
  "kernelspec": {
   "display_name": "Python 3.7",
   "language": "python",
   "name": "py37"
  },
  "language_info": {
   "codemirror_mode": {
    "name": "ipython",
    "version": 3
   },
   "file_extension": ".py",
   "mimetype": "text/x-python",
   "name": "python",
   "nbconvert_exporter": "python",
   "pygments_lexer": "ipython3",
   "version": "3.7.9"
  }
 },
 "nbformat": 4,
 "nbformat_minor": 4
}
